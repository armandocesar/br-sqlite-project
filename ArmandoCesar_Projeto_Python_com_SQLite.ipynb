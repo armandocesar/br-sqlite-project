{
  "nbformat": 4,
  "nbformat_minor": 0,
  "metadata": {
    "anaconda-cloud": {},
    "kernelspec": {
      "display_name": "Python [conda env:udacity-update]",
      "language": "python",
      "name": "conda-env-udacity-update-py"
    },
    "language_info": {
      "codemirror_mode": {
        "name": "ipython",
        "version": 3
      },
      "file_extension": ".py",
      "mimetype": "text/x-python",
      "name": "python",
      "nbconvert_exporter": "python",
      "pygments_lexer": "ipython3",
      "version": "3.7.7"
    },
    "colab": {
      "name": "Copy of Projeto - Python com SQLite.ipynb",
      "provenance": [],
      "collapsed_sections": [],
      "include_colab_link": true
    }
  },
  "cells": [
    {
      "cell_type": "markdown",
      "metadata": {
        "id": "view-in-github",
        "colab_type": "text"
      },
      "source": [
        "<a href=\"https://colab.research.google.com/github/armandocesar/br-sqlite-project/blob/master/ArmandoCesar_Projeto_Python_com_SQLite.ipynb\" target=\"_parent\"><img src=\"https://colab.research.google.com/assets/colab-badge.svg\" alt=\"Open In Colab\"/></a>"
      ]
    },
    {
      "cell_type": "markdown",
      "metadata": {
        "id": "wW8NxKyX9LJ6"
      },
      "source": [
        "# Awari - Data Science\n",
        "\n",
        "## Projeto - Python com SQLite\n",
        "\n",
        "## 1. Considerações iniciais\n",
        "\n",
        "Para que você assimile melhor os comandos do SQL, preparamos este projeto de Python com SQLite. Neste notebook Jupyter, você irá reforçando alguns conceitos da unidade atual e deverá executar algumas tarefas pelo caminho. Todo o projeto deve ser executado neste Jupyter Notebook. Por fim, se desejar, revise as respostas com o seu mentor.\n",
        "\n",
        "### 1.1. Por que SQLite?\n",
        "O SQLite é uma pequena biblioteca em C que possui um banco de dados SQL embutido. Sem o apoio de um poderoso SGDB (Sistema de Gerenciamento de Banco de Dados) como nas soluções do mercado, o SQLite é ideal para fins de aprendizagem, pois sua instalação é fácil e não requer nenhuma configuração inicial. Deste modo, podemos focar nos comandos do SQL.\n",
        "\n",
        "### 1.2. Prepare seu ambiente\n",
        "Baixe e instale o SQLite antes de começar. Resumidamente, você irá acessar a página de [Downloads](https://www.sqlite.org/download.html) do SQLite e baixar os executáveis para a mesma pasta deste notebook. Caso você encontre dificuldades:\n",
        "\n",
        "- Assista a este [vídeo](https://www.youtube.com/watch?v=VcKKt6OTlJc) para \"instalar\" o SQLite no Windows ou;\n",
        "- Ou siga este [manual](http://www.devfuria.com.br/linux/instalando-sqlite/) para as plataformas Linux.\n",
        "\n",
        "### 1.3. Conjunto de dados\n",
        "\n",
        "O conjunto de dados que iremos utilizar é derivado do [Titanic](https://www.kaggle.com/c/titanic/data). Na verdade, dividimos o conjunto em dois arquivos CSV - [passageiros](passageiros.csv) e [passagens](passagens.csv). Cada um destes arquivo serão inseridos dentro do SQLite como tabelas, onde você executará suas consultas SQL.\n",
        "\n",
        "#### 1.3.1. Descrição do dados\n",
        "\n",
        "No arquivo [passageiros](passageiros.csv), você encontrará:\n",
        "- PassengerId: Id do passageiro\n",
        "- Survived: Se o passageiro sobreviveu ou não. Se 0, então não sobreviveu. Se 1, sobreviveu.\n",
        "- Pclass: Classe em que o passageiro estava viajando. Se 1, então estava na primeira classe e assim por diante.\n",
        "- Name: Nome do passageiro.\n",
        "- Sex: Gênero do passageiro. Masculino ou feminino.\n",
        "- Age: Idade.\n",
        "- Sibsp: número de irmãos / esposas a bordo do navio.\n",
        "- Parch: número de pais / filhos a bordo do navio.\n",
        "\n",
        "E no arquivo [passagens](passagens.csv):\n",
        "- PassengerId: Id do passageiro\n",
        "- Ticket: número do ticket de embarque\n",
        "- Fare: valor pago pelo ticket.\n",
        "- Cabin: cabine do passageiro.\n",
        "- Embarked: porto de embarque do passageiro. C = Cherbourg, Q = Queenstown e S = Southampton\n"
      ]
    },
    {
      "cell_type": "code",
      "metadata": {
        "id": "dO9E90i49sJA"
      },
      "source": [
        "import sqlite3"
      ],
      "execution_count": null,
      "outputs": []
    },
    {
      "cell_type": "code",
      "metadata": {
        "colab": {
          "base_uri": "https://localhost:8080/"
        },
        "id": "eVZC_duU9_xQ",
        "outputId": "cfaf9855-787a-446d-81cc-6f5ce8cda02f"
      },
      "source": [
        "!git clone https://github.com/awarischool/br-sqlite-project"
      ],
      "execution_count": null,
      "outputs": [
        {
          "output_type": "stream",
          "text": [
            "Cloning into 'br-sqlite-project'...\n",
            "remote: Enumerating objects: 18, done.\u001b[K\n",
            "remote: Counting objects: 100% (18/18), done.\u001b[K\n",
            "remote: Compressing objects: 100% (17/17), done.\u001b[K\n",
            "remote: Total 18 (delta 6), reused 1 (delta 0), pack-reused 0\u001b[K\n",
            "Unpacking objects: 100% (18/18), done.\n"
          ],
          "name": "stdout"
        }
      ]
    },
    {
      "cell_type": "code",
      "metadata": {
        "colab": {
          "base_uri": "https://localhost:8080/"
        },
        "id": "C4jTo0ND-G1j",
        "outputId": "9aafe0c3-a8e6-4543-d45d-0d002856e7ee"
      },
      "source": [
        "cd br-sqlite-project/"
      ],
      "execution_count": null,
      "outputs": [
        {
          "output_type": "stream",
          "text": [
            "/content/br-sqlite-project\n"
          ],
          "name": "stdout"
        }
      ]
    },
    {
      "cell_type": "code",
      "metadata": {
        "colab": {
          "base_uri": "https://localhost:8080/"
        },
        "id": "5LDUvfJB-JV4",
        "outputId": "322a64b2-468e-4836-894a-c52b4c2d862d"
      },
      "source": [
        "ls"
      ],
      "execution_count": null,
      "outputs": [
        {
          "output_type": "stream",
          "text": [
            " passageiros.csv  'Projeto - Python com SQLite.ipynb'\n",
            " passagens.csv     README.md\n"
          ],
          "name": "stdout"
        }
      ]
    },
    {
      "cell_type": "markdown",
      "metadata": {
        "id": "RuQHdwFf9LK4"
      },
      "source": [
        "## 2. Procedimentos\n",
        "\n",
        "### 2.1. Leitura dos arquivos CSV\n",
        "Antes de importarmos os dados dentro das tabelas, precisamos começar lendo os arquivos CSV. O pequeno código abaixo importa os dados do CSV em uma lista de dicionários em Python."
      ]
    },
    {
      "cell_type": "code",
      "metadata": {
        "collapsed": true,
        "id": "B6e0gOeH9LLA"
      },
      "source": [
        "import csv \n",
        "\n",
        "def importar_csv(arquivo):\n",
        "    dados = []\n",
        "    with open(arquivo) as arq:\n",
        "        leitor = csv.DictReader(arq)\n",
        "        for l in leitor:\n",
        "            dados.append(dict(l))\n",
        "    \n",
        "    print('O conjunto de dados tem %s registros.' % len(dados))\n",
        "    \n",
        "    return dados"
      ],
      "execution_count": null,
      "outputs": []
    },
    {
      "cell_type": "markdown",
      "metadata": {
        "id": "NSHypMUl9LLY"
      },
      "source": [
        "### TAREFA 01\n",
        "\n",
        "1. Importe o arquivo passagens.csv usando o mesmo código anterior.\n",
        "2. Atualize as partes contendo `...` com o que falta no seu código\n",
        "\n",
        "**DICA**: Não reinvente a roda, reutilize a função anterior."
      ]
    },
    {
      "cell_type": "code",
      "metadata": {
        "id": "d8hIOEpS9LLZ",
        "colab": {
          "base_uri": "https://localhost:8080/"
        },
        "outputId": "561f7824-270f-4a48-91bc-835e9dd7c8c5"
      },
      "source": [
        "# Insira seu código aqui\n",
        "passagens = importar_csv('passagens.csv')"
      ],
      "execution_count": null,
      "outputs": [
        {
          "output_type": "stream",
          "text": [
            "O conjunto de dados tem 891 registros.\n"
          ],
          "name": "stdout"
        }
      ]
    },
    {
      "cell_type": "code",
      "metadata": {
        "colab": {
          "base_uri": "https://localhost:8080/"
        },
        "id": "KqLQ7cR7-n01",
        "outputId": "c1cbc04a-0f6e-4bd7-acf7-4e94fd2b4d32"
      },
      "source": [
        "passagens[:5]"
      ],
      "execution_count": null,
      "outputs": [
        {
          "output_type": "execute_result",
          "data": {
            "text/plain": [
              "[{'Cabin': '',\n",
              "  'Embarked': 'S',\n",
              "  'Fare': '7.25',\n",
              "  'PassengerId': '1',\n",
              "  'Ticket': 'A/5 21171'},\n",
              " {'Cabin': 'C85',\n",
              "  'Embarked': 'C',\n",
              "  'Fare': '71.2833',\n",
              "  'PassengerId': '2',\n",
              "  'Ticket': 'PC 17599'},\n",
              " {'Cabin': '',\n",
              "  'Embarked': 'S',\n",
              "  'Fare': '7925',\n",
              "  'PassengerId': '3',\n",
              "  'Ticket': 'STON/O2. 3101282'},\n",
              " {'Cabin': 'C123',\n",
              "  'Embarked': 'S',\n",
              "  'Fare': '53.1',\n",
              "  'PassengerId': '4',\n",
              "  'Ticket': '113803'},\n",
              " {'Cabin': '',\n",
              "  'Embarked': 'S',\n",
              "  'Fare': '8.05',\n",
              "  'PassengerId': '5',\n",
              "  'Ticket': '373450'}]"
            ]
          },
          "metadata": {
            "tags": []
          },
          "execution_count": 8
        }
      ]
    },
    {
      "cell_type": "code",
      "metadata": {
        "colab": {
          "base_uri": "https://localhost:8080/",
          "height": 402
        },
        "id": "ft-KUdtL-tiO",
        "outputId": "99cf56e2-2daf-4fe4-d7f1-195275b32257"
      },
      "source": [
        "import pandas as pd\n",
        "pd.DataFrame(passagens)"
      ],
      "execution_count": null,
      "outputs": [
        {
          "output_type": "execute_result",
          "data": {
            "text/html": [
              "<div>\n",
              "<style scoped>\n",
              "    .dataframe tbody tr th:only-of-type {\n",
              "        vertical-align: middle;\n",
              "    }\n",
              "\n",
              "    .dataframe tbody tr th {\n",
              "        vertical-align: top;\n",
              "    }\n",
              "\n",
              "    .dataframe thead th {\n",
              "        text-align: right;\n",
              "    }\n",
              "</style>\n",
              "<table border=\"1\" class=\"dataframe\">\n",
              "  <thead>\n",
              "    <tr style=\"text-align: right;\">\n",
              "      <th></th>\n",
              "      <th>PassengerId</th>\n",
              "      <th>Ticket</th>\n",
              "      <th>Fare</th>\n",
              "      <th>Cabin</th>\n",
              "      <th>Embarked</th>\n",
              "    </tr>\n",
              "  </thead>\n",
              "  <tbody>\n",
              "    <tr>\n",
              "      <th>0</th>\n",
              "      <td>1</td>\n",
              "      <td>A/5 21171</td>\n",
              "      <td>7.25</td>\n",
              "      <td></td>\n",
              "      <td>S</td>\n",
              "    </tr>\n",
              "    <tr>\n",
              "      <th>1</th>\n",
              "      <td>2</td>\n",
              "      <td>PC 17599</td>\n",
              "      <td>71.2833</td>\n",
              "      <td>C85</td>\n",
              "      <td>C</td>\n",
              "    </tr>\n",
              "    <tr>\n",
              "      <th>2</th>\n",
              "      <td>3</td>\n",
              "      <td>STON/O2. 3101282</td>\n",
              "      <td>7925</td>\n",
              "      <td></td>\n",
              "      <td>S</td>\n",
              "    </tr>\n",
              "    <tr>\n",
              "      <th>3</th>\n",
              "      <td>4</td>\n",
              "      <td>113803</td>\n",
              "      <td>53.1</td>\n",
              "      <td>C123</td>\n",
              "      <td>S</td>\n",
              "    </tr>\n",
              "    <tr>\n",
              "      <th>4</th>\n",
              "      <td>5</td>\n",
              "      <td>373450</td>\n",
              "      <td>8.05</td>\n",
              "      <td></td>\n",
              "      <td>S</td>\n",
              "    </tr>\n",
              "    <tr>\n",
              "      <th>...</th>\n",
              "      <td>...</td>\n",
              "      <td>...</td>\n",
              "      <td>...</td>\n",
              "      <td>...</td>\n",
              "      <td>...</td>\n",
              "    </tr>\n",
              "    <tr>\n",
              "      <th>886</th>\n",
              "      <td>887</td>\n",
              "      <td>211536</td>\n",
              "      <td>13</td>\n",
              "      <td></td>\n",
              "      <td>S</td>\n",
              "    </tr>\n",
              "    <tr>\n",
              "      <th>887</th>\n",
              "      <td>888</td>\n",
              "      <td>112053</td>\n",
              "      <td>30</td>\n",
              "      <td>B42</td>\n",
              "      <td>S</td>\n",
              "    </tr>\n",
              "    <tr>\n",
              "      <th>888</th>\n",
              "      <td>889</td>\n",
              "      <td>W./C. 6607</td>\n",
              "      <td>23.45</td>\n",
              "      <td></td>\n",
              "      <td>S</td>\n",
              "    </tr>\n",
              "    <tr>\n",
              "      <th>889</th>\n",
              "      <td>890</td>\n",
              "      <td>111369</td>\n",
              "      <td>30</td>\n",
              "      <td>C148</td>\n",
              "      <td>C</td>\n",
              "    </tr>\n",
              "    <tr>\n",
              "      <th>890</th>\n",
              "      <td>891</td>\n",
              "      <td>370376</td>\n",
              "      <td>7.75</td>\n",
              "      <td></td>\n",
              "      <td>Q</td>\n",
              "    </tr>\n",
              "  </tbody>\n",
              "</table>\n",
              "<p>891 rows × 5 columns</p>\n",
              "</div>"
            ],
            "text/plain": [
              "    PassengerId            Ticket     Fare Cabin Embarked\n",
              "0             1         A/5 21171     7.25              S\n",
              "1             2          PC 17599  71.2833   C85        C\n",
              "2             3  STON/O2. 3101282     7925              S\n",
              "3             4            113803     53.1  C123        S\n",
              "4             5            373450     8.05              S\n",
              "..          ...               ...      ...   ...      ...\n",
              "886         887            211536       13              S\n",
              "887         888            112053       30   B42        S\n",
              "888         889        W./C. 6607    23.45              S\n",
              "889         890            111369       30  C148        C\n",
              "890         891            370376     7.75              Q\n",
              "\n",
              "[891 rows x 5 columns]"
            ]
          },
          "metadata": {
            "tags": []
          },
          "execution_count": 9
        }
      ]
    },
    {
      "cell_type": "markdown",
      "metadata": {
        "id": "ertd6zod9LLc"
      },
      "source": [
        "### TAREFA 02\n",
        "1. Importe o arquivo passageiros.csv usando o mesmo código anterior."
      ]
    },
    {
      "cell_type": "code",
      "metadata": {
        "collapsed": true,
        "id": "p_Dd-lFn9LLe",
        "colab": {
          "base_uri": "https://localhost:8080/"
        },
        "outputId": "96cb4cef-86a6-4532-b9e1-395035368df8"
      },
      "source": [
        "# Insira seu código aqui\n",
        "passageiros = importar_csv('passageiros.csv')"
      ],
      "execution_count": null,
      "outputs": [
        {
          "output_type": "stream",
          "text": [
            "O conjunto de dados tem 891 registros.\n"
          ],
          "name": "stdout"
        }
      ]
    },
    {
      "cell_type": "markdown",
      "metadata": {
        "id": "muslY4kK9LLf"
      },
      "source": [
        "### 2.2. Criando o banco de dados\n",
        "Para manipular um banco SQLite com Python, temos que utilizar uma biblioteca específica."
      ]
    },
    {
      "cell_type": "code",
      "metadata": {
        "collapsed": true,
        "id": "0JHCqUkU9LLh"
      },
      "source": [
        "import sqlite3\n",
        "conn = sqlite3.connect('titanic.db')"
      ],
      "execution_count": null,
      "outputs": []
    },
    {
      "cell_type": "markdown",
      "metadata": {
        "id": "nLKV3VeC9LLu"
      },
      "source": [
        "O comando acima cria o arquivo [titanic.db](titanic.db), que armazará nossos dados."
      ]
    },
    {
      "cell_type": "markdown",
      "metadata": {
        "id": "YsdvRAWV9LLv"
      },
      "source": [
        "### 2.3. Criando as tabelas\n",
        "Neste momento, temos do dados e o banco SQLlite. Então é hora de começar à usar comandos SQL para criar as tabelas que armazenarão nossos dados dentro do banco.\n",
        "\n",
        "No SQLlite, precisamos primeiro criar uma conexão e um cursor para executar nossos comandos no banco. Para facilicar, o código abaixo facilita este processo. Você só precisa passar seu comando SQL para a função."
      ]
    },
    {
      "cell_type": "code",
      "metadata": {
        "collapsed": true,
        "id": "VtIghYLs9LLz"
      },
      "source": [
        "def executa(comando):\n",
        "    cursor = conn.cursor()\n",
        "    cursor.execute(comando)\n",
        "    cursor.close()"
      ],
      "execution_count": null,
      "outputs": []
    },
    {
      "cell_type": "markdown",
      "metadata": {
        "id": "N9KhkQhe9LL1"
      },
      "source": [
        "Não execute o comando abaixo, pois ele dá um erro. É só um exemplo"
      ]
    },
    {
      "cell_type": "code",
      "metadata": {
        "collapsed": true,
        "id": "qbY6GCHo9LL7"
      },
      "source": [
        "# Exemplo\n",
        "#comando = '<SEU_COMANDO_AQUI>'\n",
        "#executa(comando)"
      ],
      "execution_count": null,
      "outputs": []
    },
    {
      "cell_type": "markdown",
      "metadata": {
        "id": "5bLrnL_D9LL8"
      },
      "source": [
        "### TAREFA 03\n",
        "1. Cria a tabela passageiros.\n",
        "2. PassengerId deve ser a chave primária.\n",
        "3. Atualize as partes contendo `...` com o que falta no seu código"
      ]
    },
    {
      "cell_type": "code",
      "metadata": {
        "collapsed": true,
        "id": "DYlWY5g89LL-"
      },
      "source": [
        "# Insira seu código aqui\n",
        "tabela_passageiros_comando = \"\"\"\n",
        "CREATE TABLE passageiros(\n",
        "  PassengerId INTEGER NOT NULL PRIMARY KEY, \n",
        "  Survived INTEGER NOT NULL, \n",
        "  Pclass INTEGER NOT NULL, \n",
        "  Name VARCHAR(200), \n",
        "  Sex VARCHAR(20), \n",
        "  Age INTEGER, \n",
        "  SibSp INTEGER, \n",
        "  Parch INTEGER);\n",
        "\"\"\""
      ],
      "execution_count": null,
      "outputs": []
    },
    {
      "cell_type": "code",
      "metadata": {
        "collapsed": true,
        "id": "wohB4qxo9LMd"
      },
      "source": [
        "executa(tabela_passageiros_comando)"
      ],
      "execution_count": null,
      "outputs": []
    },
    {
      "cell_type": "markdown",
      "metadata": {
        "id": "x8FPMYzq9LMd"
      },
      "source": [
        "### TAREFA 04\n",
        "1. Cria a tabela passagens.\n",
        "2. PassengerId deve ser a chave primária.\n",
        "3. Atualize as partes contendo `...` com o que falta no seu código"
      ]
    },
    {
      "cell_type": "code",
      "metadata": {
        "collapsed": true,
        "id": "vc6BlFVE9LMe"
      },
      "source": [
        "# Insira seu código aqui\n",
        "tabela_passagens_comando = \"\"\"\n",
        "CREATE TABLE passagens(\n",
        "  PassengerId INTEGER NOT NULL PRIMARY KEY, \n",
        "  Ticket VARCHAR(200), \n",
        "  Fare DECIMAL(9,2), \n",
        "  Cabin VARCHAR(20), \n",
        "  Embarked VARCHAR(5));\n",
        "\"\"\"\n"
      ],
      "execution_count": null,
      "outputs": []
    },
    {
      "cell_type": "code",
      "metadata": {
        "collapsed": true,
        "id": "28HY3Cn19LMf"
      },
      "source": [
        "executa(tabela_passagens_comando)"
      ],
      "execution_count": null,
      "outputs": []
    },
    {
      "cell_type": "markdown",
      "metadata": {
        "id": "U-Qfuksd9LMh"
      },
      "source": [
        "**Atenção:** Caso você tente executar os comandos de criação de tabelas mais de uma vez, perceberá um erro de operação informando que a tabela já existe.\n",
        "\n",
        "Vamos verificar se as tabelas foram realmente criadas? Abra o terminal e na pasta atual digite:\n",
        "```\n",
        "$ sqlite3 titanic.db \".tables\"\n",
        "```\n",
        "O terminal deve retornar com as tabelas existentes em seu banco [titanic.db](titanic.db). Neste casos, *passageiros* e *passagens*. Lembre-se que neste momento, não temos nenhum dado inseridos nas tabelas.\n",
        "\n",
        "Caso queira verifcar mais algumas informações das tabelas criadas, pode executar esta outra instrução:\n",
        "```\n",
        "$ sqlite3 titanic.db \"PRAGMA table_info(passageiros)\"\n",
        "```"
      ]
    },
    {
      "cell_type": "markdown",
      "metadata": {
        "id": "D3EsZFF39LMi"
      },
      "source": [
        "### TAREFA 05\n",
        "1. Pelo terminal, verifique mais informações da tabela passagens."
      ]
    },
    {
      "cell_type": "markdown",
      "metadata": {
        "id": "qjsyMYb39LMi"
      },
      "source": [
        "### 2.4. Inserindo dados nas tabelas\n",
        "Usando o comando INSERT INTO, vamos popular as nossas tabelas. O processo é simples, percorremos as listas de dicionários, montamos nosso comando INSERT INTO e executamos - uma a uma. Para a tabela passageiros:"
      ]
    },
    {
      "cell_type": "code",
      "metadata": {
        "collapsed": true,
        "id": "sTOVWAes9LMj"
      },
      "source": [
        "for p in passageiros:\n",
        "    p['Name'] = p['Name'].replace('\"', \"'\")\n",
        "    inserir_passageiro = (\"\"\"\n",
        "    INSERT INTO passageiros(PassengerId, Survived, Pclass, Name, Sex, Age, Sibsp, Parch)\n",
        "    VALUES (%s, \"%s\", \"%s\", \"%s\", \"%s\", \"%s\", \"%s\", \"%s\")\"\"\") % (p['PassengerId'], p['Survived'], p['Pclass'],\n",
        "                                                                 p['Name'], p['Sex'], p['Age'], p['SibSp'],\n",
        "                                                                 p['Parch'])\n",
        "    executa(inserir_passageiro)"
      ],
      "execution_count": null,
      "outputs": []
    },
    {
      "cell_type": "markdown",
      "metadata": {
        "id": "89mxOLpI9LMj"
      },
      "source": [
        "### TAREFA 06\n",
        "1. Insira os dados de passagens dentro da tabela passagens"
      ]
    },
    {
      "cell_type": "code",
      "metadata": {
        "collapsed": true,
        "id": "njuuBAsa9LMk"
      },
      "source": [
        "# Insira seu código aqui\n",
        "for p in passagens:\n",
        "    inserir_passagens = (\"\"\"\n",
        "    INSERT INTO passagens(PassengerId, Ticket, Fare, Cabin, Embarked)\n",
        "    VALUES (%s, \"%s\", \"%s\", \"%s\", \"%s\")\"\"\") % (p['PassengerId'], p['Ticket'], p['Fare'], \n",
        "                                               p['Cabin'], p['Embarked'])\n",
        "    executa(inserir_passagens)"
      ],
      "execution_count": null,
      "outputs": []
    },
    {
      "cell_type": "markdown",
      "metadata": {
        "id": "mPZ3DMgA9LMk"
      },
      "source": [
        "### 2.5. Executando consultas\n",
        "Agora que os dados estão inseridos no arquivo banco SQLite, vamos executar alguns consultas. Vamos começar fazendo uma seleção de todas as colunas das tabelas.\n",
        "\n",
        "O comando SELECT retorna dados, deste modo, precisamos fazer alguma alteração na função executa. utilize o *executa_consulta()*."
      ]
    },
    {
      "cell_type": "code",
      "metadata": {
        "collapsed": true,
        "id": "E5hKFKE69LMm"
      },
      "source": [
        "def executa_consulta(consulta):\n",
        "    cursor = conn.cursor()\n",
        "    cursor.execute(consulta)\n",
        "    for linha in cursor.fetchall():\n",
        "        print(linha)\n",
        "    \n",
        "    cursor.close()"
      ],
      "execution_count": null,
      "outputs": []
    },
    {
      "cell_type": "markdown",
      "metadata": {
        "id": "uQZk7pqu9LMn"
      },
      "source": [
        "Testando nosso código. Repare que o comando LIMIT foi utilizado para limitar a quantidade de linhas."
      ]
    },
    {
      "cell_type": "code",
      "metadata": {
        "id": "6R8r_JeM9LMo",
        "colab": {
          "base_uri": "https://localhost:8080/"
        },
        "outputId": "fa135a31-a3a8-40ed-d4fd-afd61c78c850"
      },
      "source": [
        "consulta_passageiro = \"\"\"SELECT * FROM passageiros LIMIT 10\"\"\"\n",
        "executa_consulta(consulta_passageiro)"
      ],
      "execution_count": null,
      "outputs": [
        {
          "output_type": "stream",
          "text": [
            "(1, 0, 3, 'Braund, Mr. Owen Harris', 'male', 22, 1, 0)\n",
            "(2, 1, 1, 'Cumings, Mrs. John Bradley (Florence Briggs Thayer)', 'female', 38, 1, 0)\n",
            "(3, 1, 3, 'Heikkinen, Miss. Laina', 'female', 26, 0, 0)\n",
            "(4, 1, 1, 'Futrelle, Mrs. Jacques Heath (Lily May Peel)', 'female', 35, 1, 0)\n",
            "(5, 0, 3, 'Allen, Mr. William Henry', 'male', 35, 0, 0)\n",
            "(6, 0, 3, 'Moran, Mr. James', 'male', '', 0, 0)\n",
            "(7, 0, 1, 'McCarthy, Mr. Timothy J', 'male', 54, 0, 0)\n",
            "(8, 0, 3, 'Palsson, Master. Gosta Leonard', 'male', 2, 3, 1)\n",
            "(9, 1, 3, 'Johnson, Mrs. Oscar W (Elisabeth Vilhelmina Berg)', 'female', 27, 0, 2)\n",
            "(10, 1, 2, 'Nasser, Mrs. Nicholas (Adele Achem)', 'female', 14, 1, 0)\n"
          ],
          "name": "stdout"
        }
      ]
    },
    {
      "cell_type": "code",
      "metadata": {
        "collapsed": true,
        "id": "0C8JGrWR9LMs",
        "colab": {
          "base_uri": "https://localhost:8080/"
        },
        "outputId": "2507da81-d056-4cc2-9a1e-8ced717abea4"
      },
      "source": [
        "consulta_passagens = \"\"\"SELECT * FROM PASSAGENS LIMIT 10\"\"\"\n",
        "executa_consulta(consulta_passagens)"
      ],
      "execution_count": null,
      "outputs": [
        {
          "output_type": "stream",
          "text": [
            "(1, 'A/5 21171', 7.25, '', 'S')\n",
            "(2, 'PC 17599', 71.2833, 'C85', 'C')\n",
            "(3, 'STON/O2. 3101282', 7925, '', 'S')\n",
            "(4, '113803', 53.1, 'C123', 'S')\n",
            "(5, '373450', 8.05, '', 'S')\n",
            "(6, '330877', 8.4583, '', 'Q')\n",
            "(7, '17463', 51.8625, 'E46', 'S')\n",
            "(8, '349909', 21075, '', 'S')\n",
            "(9, '347742', 11.1333, '', 'S')\n",
            "(10, '237736', 30.0708, '', 'C')\n"
          ],
          "name": "stdout"
        }
      ]
    },
    {
      "cell_type": "markdown",
      "metadata": {
        "id": "magK8A7W9LMv"
      },
      "source": [
        "Também podemos imprimir mais informações sobre uma tabela usando o seguinte comando:"
      ]
    },
    {
      "cell_type": "code",
      "metadata": {
        "collapsed": true,
        "id": "Aa2msOQw9LMw",
        "colab": {
          "base_uri": "https://localhost:8080/"
        },
        "outputId": "665e6e53-cce7-4668-8733-48b8e7c261fc"
      },
      "source": [
        "executa_consulta('pragma table_info(passageiros)')"
      ],
      "execution_count": null,
      "outputs": [
        {
          "output_type": "stream",
          "text": [
            "(0, 'PassengerId', 'INTEGER', 1, None, 1)\n",
            "(1, 'Survived', 'INTEGER', 1, None, 0)\n",
            "(2, 'Pclass', 'INTEGER', 1, None, 0)\n",
            "(3, 'Name', 'VARCHAR(200)', 0, None, 0)\n",
            "(4, 'Sex', 'VARCHAR(20)', 0, None, 0)\n",
            "(5, 'Age', 'INTEGER', 0, None, 0)\n",
            "(6, 'SibSp', 'INTEGER', 0, None, 0)\n",
            "(7, 'Parch', 'INTEGER', 0, None, 0)\n"
          ],
          "name": "stdout"
        }
      ]
    },
    {
      "cell_type": "code",
      "metadata": {
        "colab": {
          "base_uri": "https://localhost:8080/"
        },
        "id": "vwWkTdAlBA6b",
        "outputId": "673a8e6e-7524-4446-ea70-c9f79ec8baa4"
      },
      "source": [
        "executa_consulta('pragma table_info(passagens)')"
      ],
      "execution_count": null,
      "outputs": [
        {
          "output_type": "stream",
          "text": [
            "(0, 'PassengerId', 'INTEGER', 1, None, 1)\n",
            "(1, 'Ticket', 'VARCHAR(200)', 0, None, 0)\n",
            "(2, 'Fare', 'DECIMAL(9,2)', 0, None, 0)\n",
            "(3, 'Cabin', 'VARCHAR(20)', 0, None, 0)\n",
            "(4, 'Embarked', 'VARCHAR(5)', 0, None, 0)\n"
          ],
          "name": "stdout"
        }
      ]
    },
    {
      "cell_type": "markdown",
      "metadata": {
        "id": "zJytWbta9LMw"
      },
      "source": [
        "### TAREFA 07\n",
        "1. Verifique quantos tipos de classe (PClass) existem na tabela passageiros."
      ]
    },
    {
      "cell_type": "code",
      "metadata": {
        "id": "BNBF100H9LMw",
        "colab": {
          "base_uri": "https://localhost:8080/"
        },
        "outputId": "5c1f2eb8-9eb4-4361-b24a-40a35cbcf41b"
      },
      "source": [
        "# Insira seu código aqui\n",
        "consulta = \"\"\"SELECT DISTINCT(PClass) FROM passageiros\"\"\"\n",
        "executa_consulta(consulta)"
      ],
      "execution_count": null,
      "outputs": [
        {
          "output_type": "stream",
          "text": [
            "(3,)\n",
            "(1,)\n",
            "(2,)\n"
          ],
          "name": "stdout"
        }
      ]
    },
    {
      "cell_type": "markdown",
      "metadata": {
        "id": "G-BPVPFR9LMx"
      },
      "source": [
        "### TAREFA 08\n",
        "1. Selecione os passageiros do sexo masculino (Sex) e que estejam na segunda classe (PClass).\n",
        "\n",
        "**DICA**: Use a cláusula WHERE e uma condicional (AND ou OR)."
      ]
    },
    {
      "cell_type": "code",
      "metadata": {
        "id": "zQYoGUlP9LMx",
        "colab": {
          "base_uri": "https://localhost:8080/"
        },
        "outputId": "43859d59-6c7a-40da-b514-ed76ede49428"
      },
      "source": [
        "# Insira seu código aqui\n",
        "consulta = \"\"\"SELECT * FROM passageiros WHERE Sex='male' and PClass=2\"\"\"\n",
        "executa_consulta(consulta)"
      ],
      "execution_count": null,
      "outputs": [
        {
          "output_type": "stream",
          "text": [
            "(18, 1, 2, 'Williams, Mr. Charles Eugene', 'male', '', 0, 0)\n",
            "(21, 0, 2, 'Fynney, Mr. Joseph J', 'male', 35, 0, 0)\n",
            "(22, 1, 2, 'Beesley, Mr. Lawrence', 'male', 34, 0, 0)\n",
            "(34, 0, 2, 'Wheadon, Mr. Edward H', 'male', 66, 0, 0)\n",
            "(71, 0, 2, 'Jenkin, Mr. Stephen Curnow', 'male', 32, 0, 0)\n",
            "(73, 0, 2, 'Hood, Mr. Ambrose Jr', 'male', 21, 0, 0)\n",
            "(79, 1, 2, 'Caldwell, Master. Alden Gates', 'male', 0.83, 0, 2)\n",
            "(100, 0, 2, 'Kantor, Mr. Sinai', 'male', 34, 1, 0)\n",
            "(118, 0, 2, 'Turpin, Mr. William John Robert', 'male', 29, 1, 0)\n",
            "(121, 0, 2, 'Hickman, Mr. Stanley George', 'male', 21, 2, 0)\n",
            "(123, 0, 2, 'Nasser, Mr. Nicholas', 'male', 32.5, 1, 0)\n",
            "(135, 0, 2, 'Sobey, Mr. Samuel James Hayden', 'male', 25, 0, 0)\n",
            "(136, 0, 2, 'Richard, Mr. Emile', 'male', 23, 0, 0)\n",
            "(145, 0, 2, 'Andrew, Mr. Edgardo Samuel', 'male', 18, 0, 0)\n",
            "(146, 0, 2, 'Nicholls, Mr. Joseph Charles', 'male', 19, 1, 1)\n",
            "(149, 0, 2, \"Navratil, Mr. Michel ('Louis M Hoffman')\", 'male', 36.5, 0, 2)\n",
            "(150, 0, 2, 'Byles, Rev. Thomas Roussel Davids', 'male', 42, 0, 0)\n",
            "(151, 0, 2, 'Bateman, Rev. Robert James', 'male', 51, 0, 0)\n",
            "(179, 0, 2, 'Hale, Mr. Reginald', 'male', 30, 0, 0)\n",
            "(182, 0, 2, 'Pernot, Mr. Rene', 'male', '', 0, 0)\n",
            "(184, 1, 2, 'Becker, Master. Richard F', 'male', 1, 2, 1)\n",
            "(192, 0, 2, 'Carbines, Mr. William', 'male', 19, 0, 0)\n",
            "(194, 1, 2, 'Navratil, Master. Michel M', 'male', 3, 1, 1)\n",
            "(214, 0, 2, 'Givard, Mr. Hans Kristensen', 'male', 30, 0, 0)\n",
            "(218, 0, 2, 'Jacobsohn, Mr. Sidney Samuel', 'male', 42, 1, 0)\n",
            "(220, 0, 2, 'Harris, Mr. Walter', 'male', 30, 0, 0)\n",
            "(222, 0, 2, 'Bracken, Mr. James H', 'male', 27, 0, 0)\n",
            "(227, 1, 2, 'Mellors, Mr. William John', 'male', 19, 0, 0)\n",
            "(229, 0, 2, 'Fahlstrom, Mr. Arne Jonas', 'male', 18, 0, 0)\n",
            "(233, 0, 2, 'Sjostedt, Mr. Ernst Adolf', 'male', 59, 0, 0)\n",
            "(235, 0, 2, 'Leyson, Mr. Robert William Norman', 'male', 24, 0, 0)\n",
            "(237, 0, 2, 'Hold, Mr. Stephen', 'male', 44, 1, 0)\n",
            "(239, 0, 2, 'Pengelly, Mr. Frederick William', 'male', 19, 0, 0)\n",
            "(240, 0, 2, 'Hunt, Mr. George Henry', 'male', 33, 0, 0)\n",
            "(243, 0, 2, 'Coleridge, Mr. Reginald Charles', 'male', 29, 0, 0)\n",
            "(250, 0, 2, 'Carter, Rev. Ernest Courtenay', 'male', 54, 1, 0)\n",
            "(266, 0, 2, 'Reeves, Mr. David', 'male', 36, 0, 0)\n",
            "(278, 0, 2, \"Parkes, Mr. Francis 'Frank'\", 'male', '', 0, 0)\n",
            "(289, 1, 2, 'Hosono, Mr. Masabumi', 'male', 42, 0, 0)\n",
            "(293, 0, 2, 'Levy, Mr. Rene Jacques', 'male', 36, 0, 0)\n",
            "(309, 0, 2, 'Abelson, Mr. Samuel', 'male', 30, 1, 0)\n",
            "(315, 0, 2, 'Hart, Mr. Benjamin', 'male', 43, 1, 1)\n",
            "(318, 0, 2, 'Moraweck, Dr. Ernest', 'male', 54, 0, 0)\n",
            "(341, 1, 2, 'Navratil, Master. Edmond Roger', 'male', 2, 1, 1)\n",
            "(343, 0, 2, 'Collander, Mr. Erik Gustaf', 'male', 28, 0, 0)\n",
            "(344, 0, 2, 'Sedgwick, Mr. Charles Frederick Waddington', 'male', 25, 0, 0)\n",
            "(345, 0, 2, 'Fox, Mr. Stanley Hubert', 'male', 36, 0, 0)\n",
            "(362, 0, 2, 'del Carlo, Mr. Sebastiano', 'male', 29, 1, 0)\n",
            "(386, 0, 2, 'Davies, Mr. Charles Henry', 'male', 18, 0, 0)\n",
            "(398, 0, 2, 'McKane, Mr. Peter David', 'male', 46, 0, 0)\n",
            "(399, 0, 2, 'Pain, Dr. Alfred', 'male', 23, 0, 0)\n",
            "(406, 0, 2, 'Gale, Mr. Shadrach', 'male', 34, 1, 0)\n",
            "(408, 1, 2, 'Richards, Master. William Rowe', 'male', 3, 1, 1)\n",
            "(414, 0, 2, 'Cunningham, Mr. Alfred Fleming', 'male', '', 0, 0)\n",
            "(419, 0, 2, 'Matthews, Mr. William John', 'male', 30, 0, 0)\n",
            "(440, 0, 2, 'Kvillner, Mr. Johan Henrik Johannesson', 'male', 31, 0, 0)\n",
            "(451, 0, 2, 'West, Mr. Edwy Arthur', 'male', 36, 1, 2)\n",
            "(464, 0, 2, 'Milling, Mr. Jacob Christian', 'male', 48, 0, 0)\n",
            "(467, 0, 2, 'Campbell, Mr. William', 'male', '', 0, 0)\n",
            "(477, 0, 2, 'Renouf, Mr. Peter Henry', 'male', 34, 1, 0)\n",
            "(482, 0, 2, \"Frost, Mr. Anthony Wood 'Archie'\", 'male', '', 0, 0)\n",
            "(530, 0, 2, 'Hocking, Mr. Richard George', 'male', 23, 2, 1)\n",
            "(544, 1, 2, 'Beane, Mr. Edward', 'male', 32, 1, 0)\n",
            "(548, 1, 2, 'Padro y Manent, Mr. Julian', 'male', '', 0, 0)\n",
            "(550, 1, 2, 'Davies, Master. John Morgan Jr', 'male', 8, 1, 1)\n",
            "(552, 0, 2, 'Sharp, Mr. Percival James R', 'male', 27, 0, 0)\n",
            "(563, 0, 2, 'Norman, Mr. Robert Douglas', 'male', 28, 0, 0)\n",
            "(571, 1, 2, 'Harris, Mr. George', 'male', 62, 0, 0)\n",
            "(583, 0, 2, 'Downton, Mr. William James', 'male', 54, 0, 0)\n",
            "(587, 0, 2, 'Jarvis, Mr. John Denzil', 'male', 47, 0, 0)\n",
            "(595, 0, 2, 'Chapman, Mr. John Henry', 'male', 37, 1, 0)\n",
            "(620, 0, 2, 'Gavey, Mr. Lawrence', 'male', 26, 0, 0)\n",
            "(627, 0, 2, 'Kirkland, Rev. Charles Leonard', 'male', 57, 0, 0)\n",
            "(638, 0, 2, 'Collyer, Mr. Harvey', 'male', 31, 1, 1)\n",
            "(656, 0, 2, 'Hickman, Mr. Leonard Mark', 'male', 24, 2, 0)\n",
            "(659, 0, 2, 'Eitemiller, Mr. George Floyd', 'male', 23, 0, 0)\n",
            "(666, 0, 2, 'Hickman, Mr. Lewis', 'male', 32, 2, 0)\n",
            "(667, 0, 2, 'Butler, Mr. Reginald Fenton', 'male', 25, 0, 0)\n",
            "(673, 0, 2, 'Mitchell, Mr. Henry Michael', 'male', 70, 0, 0)\n",
            "(674, 1, 2, 'Wilhelms, Mr. Charles', 'male', 31, 0, 0)\n",
            "(675, 0, 2, 'Watson, Mr. Ennis Hastings', 'male', '', 0, 0)\n",
            "(685, 0, 2, 'Brown, Mr. Thomas William Solomon', 'male', 60, 1, 1)\n",
            "(686, 0, 2, 'Laroche, Mr. Joseph Philippe Lemercier', 'male', 25, 1, 2)\n",
            "(696, 0, 2, 'Chapman, Mr. Charles Henry', 'male', 52, 0, 0)\n",
            "(706, 0, 2, \"Morley, Mr. Henry Samuel ('Mr Henry Marshall')\", 'male', 39, 0, 0)\n",
            "(715, 0, 2, 'Greenberg, Mr. Samuel', 'male', 52, 0, 0)\n",
            "(723, 0, 2, 'Gillespie, Mr. William Henry', 'male', 34, 0, 0)\n",
            "(724, 0, 2, 'Hodges, Mr. Henry Price', 'male', 50, 0, 0)\n",
            "(729, 0, 2, 'Bryhl, Mr. Kurt Arnold Gottfrid', 'male', 25, 1, 0)\n",
            "(733, 0, 2, 'Knight, Mr. Robert J', 'male', '', 0, 0)\n",
            "(734, 0, 2, 'Berriman, Mr. William John', 'male', 23, 0, 0)\n",
            "(735, 0, 2, 'Troupiansky, Mr. Moses Aaron', 'male', 23, 0, 0)\n",
            "(756, 1, 2, 'Hamalainen, Master. Viljo', 'male', 0.67, 1, 1)\n",
            "(758, 0, 2, 'Bailey, Mr. Percy Andrew', 'male', 18, 0, 0)\n",
            "(792, 0, 2, 'Gaskell, Mr. Alfred', 'male', 16, 0, 0)\n",
            "(796, 0, 2, 'Otter, Mr. Richard', 'male', 39, 0, 0)\n",
            "(801, 0, 2, 'Ponesell, Mr. Martin', 'male', 34, 0, 0)\n",
            "(809, 0, 2, 'Meyer, Mr. August', 'male', 39, 0, 0)\n",
            "(813, 0, 2, 'Slemen, Mr. Richard James', 'male', 35, 0, 0)\n",
            "(818, 0, 2, 'Mallet, Mr. Albert', 'male', 31, 1, 1)\n",
            "(828, 1, 2, 'Mallet, Master. Andre', 'male', 1, 0, 2)\n",
            "(832, 1, 2, 'Richards, Master. George Sibley', 'male', 0.83, 1, 1)\n",
            "(842, 0, 2, 'Mudd, Mr. Thomas Charles', 'male', 16, 0, 0)\n",
            "(849, 0, 2, 'Harper, Rev. John', 'male', 28, 0, 1)\n",
            "(862, 0, 2, 'Giles, Mr. Frederick Edward', 'male', 21, 1, 0)\n",
            "(865, 0, 2, 'Gill, Mr. John William', 'male', 24, 0, 0)\n",
            "(884, 0, 2, 'Banfield, Mr. Frederick James', 'male', 28, 0, 0)\n",
            "(887, 0, 2, 'Montvila, Rev. Juozas', 'male', 27, 0, 0)\n"
          ],
          "name": "stdout"
        }
      ]
    },
    {
      "cell_type": "markdown",
      "metadata": {
        "id": "uWhlOqJ09LM6"
      },
      "source": [
        "### TAREFA 09\n",
        "1. Conte quantos passageiros existem por sexo.\n",
        "\n",
        "**DICA**: Use GROUP BY e COUNT()."
      ]
    },
    {
      "cell_type": "code",
      "metadata": {
        "id": "DC0om4ly9LM7",
        "colab": {
          "base_uri": "https://localhost:8080/"
        },
        "outputId": "68a4e74d-079e-4e10-887e-261040637d4a"
      },
      "source": [
        "# Insira seu código aqui\n",
        "consulta = \"\"\"SELECT Sex, count() FROM passageiros GROUP BY Sex\"\"\"\n",
        "executa_consulta(consulta)"
      ],
      "execution_count": null,
      "outputs": [
        {
          "output_type": "stream",
          "text": [
            "('female', 314)\n",
            "('male', 577)\n"
          ],
          "name": "stdout"
        }
      ]
    },
    {
      "cell_type": "markdown",
      "metadata": {
        "id": "tdLZOtCy9LM8"
      },
      "source": [
        "### TAREFA 10\n",
        "1. Verifique o valor médio das passagens em cada porto de embarque\n",
        "\n",
        "**DICA**: Use GROUP BY e AVG(). A presença de valores missing pode apresentar alguns resultados estranhos."
      ]
    },
    {
      "cell_type": "code",
      "metadata": {
        "id": "uwdEnZZ99LNA",
        "colab": {
          "base_uri": "https://localhost:8080/"
        },
        "outputId": "0ead1b0f-c726-45f3-8824-b99c9f1399b8"
      },
      "source": [
        "# Insira seu código aqui\n",
        "consulta = \"\"\"SELECT Embarked, AVG(Fare) FROM passagens GROUP BY Embarked\"\"\"\n",
        "executa_consulta(consulta)"
      ],
      "execution_count": null,
      "outputs": [
        {
          "output_type": "stream",
          "text": [
            "('', 80.0)\n",
            "('C', 12709.34566190476)\n",
            "('Q', 2002.8429129870128)\n",
            "('S', 2015.3069857142902)\n"
          ],
          "name": "stdout"
        }
      ]
    },
    {
      "cell_type": "markdown",
      "metadata": {
        "id": "_vbZoJ8-9LNC"
      },
      "source": [
        "### TAREFA 11\n",
        "1. Selecione o nome (Name), sexo(Sex) e tarifa(Fare) paga de 5 passageiros\n",
        "2. Utilize as tabelas passageiros e passagens.\n",
        "\n",
        "**DICA**: Use JOIN."
      ]
    },
    {
      "cell_type": "code",
      "metadata": {
        "id": "lm6aVcnU9LNH",
        "colab": {
          "base_uri": "https://localhost:8080/"
        },
        "outputId": "ee8ecb77-5af0-46c9-b168-54d52ccd28f7"
      },
      "source": [
        "# Insira seu código aqui\n",
        "consulta = \"\"\"SELECT Name, Sex, Fare \n",
        "FROM passagens INNER JOIN passageiros ON passagens.PassengerId=passageiros.PassengerId\n",
        "LIMIT 5\"\"\"\n",
        "executa_consulta(consulta)"
      ],
      "execution_count": null,
      "outputs": [
        {
          "output_type": "stream",
          "text": [
            "('Braund, Mr. Owen Harris', 'male', 7.25)\n",
            "('Cumings, Mrs. John Bradley (Florence Briggs Thayer)', 'female', 71.2833)\n",
            "('Heikkinen, Miss. Laina', 'female', 7925)\n",
            "('Futrelle, Mrs. Jacques Heath (Lily May Peel)', 'female', 53.1)\n",
            "('Allen, Mr. William Henry', 'male', 8.05)\n"
          ],
          "name": "stdout"
        }
      ]
    },
    {
      "cell_type": "code",
      "metadata": {
        "colab": {
          "base_uri": "https://localhost:8080/"
        },
        "id": "rGApm_URFo-n",
        "outputId": "e8fe4907-dd42-4efe-81bd-3beed68dc10d"
      },
      "source": [
        "# Insira seu código aqui\n",
        "consulta = \"\"\"SELECT Name, Sex, Fare \n",
        "FROM passagens PA INNER JOIN passageiros PO ON PA.PassengerId=PO.PassengerId\n",
        "LIMIT 5\"\"\"\n",
        "executa_consulta(consulta)"
      ],
      "execution_count": null,
      "outputs": [
        {
          "output_type": "stream",
          "text": [
            "('Braund, Mr. Owen Harris', 'male', 7.25)\n",
            "('Cumings, Mrs. John Bradley (Florence Briggs Thayer)', 'female', 71.2833)\n",
            "('Heikkinen, Miss. Laina', 'female', 7925)\n",
            "('Futrelle, Mrs. Jacques Heath (Lily May Peel)', 'female', 53.1)\n",
            "('Allen, Mr. William Henry', 'male', 8.05)\n"
          ],
          "name": "stdout"
        }
      ]
    },
    {
      "cell_type": "markdown",
      "metadata": {
        "id": "4qpWIIga9LNI"
      },
      "source": [
        "### TAREFA 12\n",
        "1. Selecione o valor máximo (Fare) das passagens por classe."
      ]
    },
    {
      "cell_type": "code",
      "metadata": {
        "id": "JyZ13rfo9LNJ",
        "colab": {
          "base_uri": "https://localhost:8080/"
        },
        "outputId": "628b6f22-7a4d-4c1c-8e62-b12e8cad17c0"
      },
      "source": [
        "# Insira seu código aqui\n",
        "consulta = \"\"\"SELECT B.Pclass, max(A.Fare) \n",
        "FROM PASSAGENS A INNER JOIN PASSAGEIROS B \n",
        "  ON A.PassengerId=B.PassengerId \n",
        "GROUP BY B.Pclass\"\"\"\n",
        "executa_consulta(consulta)"
      ],
      "execution_count": null,
      "outputs": [
        {
          "output_type": "stream",
          "text": [
            "(1, 262375)\n",
            "(2, 12875)\n",
            "(3, 34375)\n"
          ],
          "name": "stdout"
        }
      ]
    },
    {
      "cell_type": "markdown",
      "metadata": {
        "id": "_hoRbG-H9LNJ"
      },
      "source": [
        "### TAREFA 13\n",
        "1. Descubra quantas pessoas embarcaram por porto\n",
        "2. Agrupando por porto e sexo."
      ]
    },
    {
      "cell_type": "code",
      "metadata": {
        "id": "TCrzuh3UGcWA"
      },
      "source": [
        ""
      ],
      "execution_count": null,
      "outputs": []
    },
    {
      "cell_type": "code",
      "metadata": {
        "id": "14C8rI1N9LNK",
        "colab": {
          "base_uri": "https://localhost:8080/"
        },
        "outputId": "6e69e8bd-3995-40e5-dce4-0d894da3916c"
      },
      "source": [
        "# Insira seu código aqui\n",
        "consulta = \"\"\"SELECT Embarked, Sex, Count()\n",
        "FROM PASSAGENS A INNER JOIN PASSAGEIROS B\n",
        "  ON A.PassengerId=B.PassengerId \n",
        "GROUP BY Embarked, Sex\"\"\"\n",
        "executa_consulta(consulta)"
      ],
      "execution_count": null,
      "outputs": [
        {
          "output_type": "stream",
          "text": [
            "('', 'female', 2)\n",
            "('C', 'female', 73)\n",
            "('C', 'male', 95)\n",
            "('Q', 'female', 36)\n",
            "('Q', 'male', 41)\n",
            "('S', 'female', 203)\n",
            "('S', 'male', 441)\n"
          ],
          "name": "stdout"
        }
      ]
    },
    {
      "cell_type": "markdown",
      "metadata": {
        "id": "mqEn20m29LNL"
      },
      "source": [
        "## 3. Conclusão\n",
        "\n",
        "A quantidade de consultas e a lista de comandos SQL é enorme. A interação foi somente relembrar alguns comandos básicos para que você se sinta confortável para explorar qualquer banco de dados SQL que você encontrar.\n"
      ]
    },
    {
      "cell_type": "markdown",
      "metadata": {
        "id": "vEC3xdk79LNM"
      },
      "source": [
        "### Awari -  <a href=\"https://awari.com.br/\"> awari.com.br</a>"
      ]
    }
  ]
}